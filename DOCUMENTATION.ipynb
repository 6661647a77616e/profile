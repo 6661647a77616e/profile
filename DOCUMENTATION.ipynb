{
 "cells": [
  {
   "cell_type": "markdown",
   "metadata": {},
   "source": [
    "## Plan Features\n",
    "\n",
    "|Features|Deadline|Done or Not|\n",
    "|---|---|---|\n",
    "|Footer||Done|\n",
    "|Dragable Window|||\n",
    "|email command||\n",
    "|jupyter documetnation||\n",
    "|filter cursed words||\n",
    "|project window||"
   ]
  },
  {
   "cell_type": "markdown",
   "metadata": {},
   "source": [
    "## Deployment in Github Pages\n",
    "I refer [here](https://www.geeksforgeeks.org/deployment-of-react-application-using-github-pages/) and created [new repo](github.com/fadzwanashriq/profile) for it.\n",
    "\n",
    "each time running `npm run deploy` i need to `npx browserslatest@latest`"
   ]
  }
 ],
 "metadata": {
  "language_info": {
   "name": "python"
  }
 },
 "nbformat": 4,
 "nbformat_minor": 2
}
